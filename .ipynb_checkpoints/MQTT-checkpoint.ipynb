{
 "cells": [
  {
   "cell_type": "markdown",
   "metadata": {},
   "source": [
    "# MQTT"
   ]
  },
  {
   "cell_type": "code",
   "execution_count": 1,
   "metadata": {
    "collapsed": false
   },
   "outputs": [
    {
     "name": "stdout",
     "output_type": "stream",
     "text": [
      "Requirement already satisfied: paho-mqtt in /home/brian/anaconda3/lib/python3.6/site-packages\r\n"
     ]
    }
   ],
   "source": [
    "!pip install paho-mqtt"
   ]
  },
  {
   "cell_type": "code",
   "execution_count": 2,
   "metadata": {
    "collapsed": true
   },
   "outputs": [],
   "source": [
    "import paho.mqtt.client as mqtt\n",
    "import time\n",
    "msg_count = 1\n",
    "oldMessage = []"
   ]
  },
  {
   "cell_type": "markdown",
   "metadata": {},
   "source": [
    "The callback for when the client receives a CONNACK response from the server.\n",
    "Subscribing in on_connect means that if we lose the connection and \n",
    "reconnet then subscription will be renewed."
   ]
  },
  {
   "cell_type": "code",
   "execution_count": 3,
   "metadata": {
    "collapsed": true
   },
   "outputs": [],
   "source": [
    "def on_connect(client, userdata, flags, rc):\n",
    "    print(\"Connected with result code \"+str(rc))\n",
    "    client.subscribe(\"Finn/Jake\",2)"
   ]
  },
  {
   "cell_type": "markdown",
   "metadata": {},
   "source": [
    " The callback for when a PUBISH message is received from the server"
   ]
  },
  {
   "cell_type": "code",
   "execution_count": 49,
   "metadata": {
    "collapsed": false
   },
   "outputs": [],
   "source": [
    "def on_message(client,userdata,msg):\n",
    "   \n",
    "    global msg_count, oldMessage\n",
    "   \n",
    "    if (msg_count == 1):\n",
    "      print(msg_count)\n",
    "      print(msg.topic  + str(msg.payload) +'\\n')\n",
    "    else:\n",
    "        if (msg.payload  != oldMessage):\n",
    "            print(\"new message has arrived\")\n",
    "            msg_count += 1\n",
    "            print('ha ha ha')\n",
    "            print(msg_count)\n",
    "            #print(str(msg.payload) +'\\n')\n",
    "            oldMessage = msg.payload\n",
    "            print(str(oldMessage) + '\\n')\n",
    "            \n",
    "        \n",
    "         \n",
    "    "
   ]
  },
  {
   "cell_type": "code",
   "execution_count": 50,
   "metadata": {
    "collapsed": false
   },
   "outputs": [],
   "source": [
    "def on_subscribe(client,userdata,mid,granted_qos):\n",
    "    print(\"subscribed to the topic and qos :\" + str(granted_qos))"
   ]
  },
  {
   "cell_type": "code",
   "execution_count": 51,
   "metadata": {
    "collapsed": false
   },
   "outputs": [],
   "source": [
    "client = mqtt.Client()"
   ]
  },
  {
   "cell_type": "code",
   "execution_count": 52,
   "metadata": {
    "collapsed": false
   },
   "outputs": [],
   "source": [
    "client.on_connect = on_connect"
   ]
  },
  {
   "cell_type": "code",
   "execution_count": 53,
   "metadata": {
    "collapsed": true
   },
   "outputs": [],
   "source": [
    "client.on_message = on_message"
   ]
  },
  {
   "cell_type": "code",
   "execution_count": 54,
   "metadata": {
    "collapsed": true
   },
   "outputs": [],
   "source": [
    "client.on_subscribe = on_subscribe"
   ]
  },
  {
   "cell_type": "code",
   "execution_count": null,
   "metadata": {
    "collapsed": true
   },
   "outputs": [],
   "source": []
  },
  {
   "cell_type": "code",
   "execution_count": 55,
   "metadata": {
    "collapsed": false
   },
   "outputs": [
    {
     "data": {
      "text/plain": [
       "0"
      ]
     },
     "execution_count": 55,
     "metadata": {},
     "output_type": "execute_result"
    }
   ],
   "source": [
    "client.connect(\"iot.eclipse.org\", 1883,60)"
   ]
  },
  {
   "cell_type": "code",
   "execution_count": 56,
   "metadata": {
    "collapsed": false
   },
   "outputs": [
    {
     "name": "stdout",
     "output_type": "stream",
     "text": [
      "Connected with result code 0\n",
      "subscribed to the topic and qos :(2,)\n",
      "new message has arrived\n",
      "ha ha ha\n",
      "31\n"
     ]
    },
    {
     "name": "stderr",
     "output_type": "stream",
     "text": [
      "Exception in thread Thread-9:\n",
      "Traceback (most recent call last):\n",
      "  File \"/home/brian/anaconda3/lib/python3.6/threading.py\", line 916, in _bootstrap_inner\n",
      "    self.run()\n",
      "  File \"/home/brian/anaconda3/lib/python3.6/threading.py\", line 864, in run\n",
      "    self._target(*self._args, **self._kwargs)\n",
      "  File \"/home/brian/anaconda3/lib/python3.6/site-packages/paho/mqtt/client.py\", line 2580, in _thread_main\n",
      "    self.loop_forever(retry_first_connection=True)\n",
      "  File \"/home/brian/anaconda3/lib/python3.6/site-packages/paho/mqtt/client.py\", line 1378, in loop_forever\n",
      "    rc = self.loop(timeout, max_packets)\n",
      "  File \"/home/brian/anaconda3/lib/python3.6/site-packages/paho/mqtt/client.py\", line 897, in loop\n",
      "    rc = self.loop_read(max_packets)\n",
      "  File \"/home/brian/anaconda3/lib/python3.6/site-packages/paho/mqtt/client.py\", line 1177, in loop_read\n",
      "    rc = self._packet_read()\n",
      "  File \"/home/brian/anaconda3/lib/python3.6/site-packages/paho/mqtt/client.py\", line 1766, in _packet_read\n",
      "    rc = self._packet_handle()\n",
      "  File \"/home/brian/anaconda3/lib/python3.6/site-packages/paho/mqtt/client.py\", line 2243, in _packet_handle\n",
      "    return self._handle_pubrel()\n",
      "  File \"/home/brian/anaconda3/lib/python3.6/site-packages/paho/mqtt/client.py\", line 2448, in _handle_pubrel\n",
      "    self._handle_on_message(self._in_messages[i])\n",
      "  File \"/home/brian/anaconda3/lib/python3.6/site-packages/paho/mqtt/client.py\", line 2574, in _handle_on_message\n",
      "    self.on_message(self, self._userdata, message)\n",
      "  File \"<ipython-input-49-b8feb22d9c9d>\", line 16, in on_message\n",
      "    print(oldMessage + \"\\n\")\n",
      "TypeError: can't concat bytes to str\n",
      "\n"
     ]
    }
   ],
   "source": [
    "client.loop_start()"
   ]
  },
  {
   "cell_type": "code",
   "execution_count": null,
   "metadata": {
    "collapsed": false
   },
   "outputs": [],
   "source": []
  },
  {
   "cell_type": "code",
   "execution_count": 22,
   "metadata": {
    "collapsed": false
   },
   "outputs": [
    {
     "name": "stdout",
     "output_type": "stream",
     "text": [
      "subscribed to the topic and qos :(2,)\n",
      "message has arrived\n",
      "1\n",
      "Finn/Jake:b'awesome i love mqtt 20'\n",
      "\n"
     ]
    }
   ],
   "source": [
    "  #client.publish('hansung/rm229',msg.payload)"
   ]
  },
  {
   "cell_type": "code",
   "execution_count": 23,
   "metadata": {
    "collapsed": false
   },
   "outputs": [
    {
     "name": "stdout",
     "output_type": "stream",
     "text": [
      "message has arrived\n",
      "11\n",
      "Finn/Jake:b'awesome i love mqtt 31'\n",
      "\n",
      "\n",
      "Finn/Jake:b'awesome i love mqtt 31'\n",
      "\n",
      "1\n",
      "Finn/Jake:b'awesome i love mqtt 32'\n",
      "message has arrived\n",
      "\n",
      "1\n",
      "Finn/Jake:b'awesome i love mqtt 32'\n",
      "\n",
      "message has arrived\n",
      "1\n",
      "Finn/Jake:b'awesome i love mqtt 33'\n",
      "\n",
      "1\n",
      "Finn/Jake:b'awesome i love mqtt 33'\n",
      "\n",
      "message has arrived\n",
      "11\n",
      "\n",
      "Finn/Jake:b'awesome i love mqtt 33'\n",
      "Finn/Jake:b'awesome i love mqtt 33'\n",
      "\n",
      "\n",
      "message has arrived\n",
      "1\n",
      "Finn/Jake:b'awesome i love mqtt 33'\n",
      "\n",
      "1\n",
      "Finn/Jake:b'awesome i love mqtt 33'\n",
      "\n",
      "message has arrived1\n",
      "Finn/Jake:b'awesome i love mqtt 33'\n",
      "\n",
      "\n",
      "1\n",
      "Finn/Jake:b'awesome i love mqtt 33'\n",
      "\n",
      "1message has arrived\n",
      "\n",
      "1\n",
      "Finn/Jake:b'awesome i love mqtt 33'\n",
      "\n",
      "Finn/Jake:b'awesome i love mqtt 33'\n",
      "\n",
      "message has arrived\n",
      "1\n",
      "Finn/Jake:b'awesome i love mqtt 33'\n",
      "1\n",
      "\n",
      "Finn/Jake:b'awesome i love mqtt 33'\n",
      "\n",
      "message has arrived\n",
      "1\n",
      "Finn/Jake:b'awesome i love mqtt 33'\n",
      "\n",
      "1\n",
      "Finn/Jake:b'awesome i love mqtt 33'\n",
      "\n",
      "message has arrived\n",
      "11\n",
      "Finn/Jake:b'99'\n",
      "\n",
      "\n",
      "Finn/Jake:b'99'\n",
      "\n",
      "message has arrived1\n",
      "1\n",
      "Finn/Jake:b'100'\n",
      "\n",
      "\n",
      "Finn/Jake:b'100'\n",
      "\n",
      "message has arrived1\n",
      "Finn/Jake:b'101'\n",
      "\n",
      "\n",
      "1\n",
      "Finn/Jake:b'101'\n",
      "\n"
     ]
    }
   ],
   "source": [
    "#time.sleep(300)\n",
    "#client.disconnect()\n",
    "#client.loop_stop()"
   ]
  },
  {
   "cell_type": "code",
   "execution_count": null,
   "metadata": {
    "collapsed": true
   },
   "outputs": [],
   "source": []
  }
 ],
 "metadata": {
  "kernelspec": {
   "display_name": "Python 3",
   "language": "python",
   "name": "python3"
  },
  "language_info": {
   "codemirror_mode": {
    "name": "ipython",
    "version": 3
   },
   "file_extension": ".py",
   "mimetype": "text/x-python",
   "name": "python",
   "nbconvert_exporter": "python",
   "pygments_lexer": "ipython3",
   "version": "3.6.0"
  }
 },
 "nbformat": 4,
 "nbformat_minor": 2
}
