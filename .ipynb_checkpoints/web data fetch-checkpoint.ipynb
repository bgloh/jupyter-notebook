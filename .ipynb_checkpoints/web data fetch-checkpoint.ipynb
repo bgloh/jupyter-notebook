{
 "cells": [
  {
   "cell_type": "markdown",
   "metadata": {},
   "source": [
    "# web data fetch using python\n",
    "3.30.2017\n",
    "\n",
    "import urllib3 module from anaconda \n",
    ">pip install -i https://pypi.anaconda.org/pypi/simple urllib3\n",
    "\n",
    "user guid link\n",
    "http://urllib3.readthedocs.io/en/latest/user-guide.html"
   ]
  },
  {
   "cell_type": "code",
   "execution_count": 14,
   "metadata": {
    "collapsed": false
   },
   "outputs": [],
   "source": [
    "import urllib3\n",
    "import pandas as pd"
   ]
  },
  {
   "cell_type": "code",
   "execution_count": 15,
   "metadata": {
    "collapsed": false
   },
   "outputs": [],
   "source": [
    "http = urllib3.PoolManager() # You’ll need a PoolManager instance to make requests. \n"
   ]
  },
  {
   "cell_type": "code",
   "execution_count": 16,
   "metadata": {
    "collapsed": false
   },
   "outputs": [],
   "source": [
    "r = http.request('GET', 'http://httpbin.org/ip')\n"
   ]
  },
  {
   "cell_type": "code",
   "execution_count": 17,
   "metadata": {
    "collapsed": false
   },
   "outputs": [
    {
     "name": "stdout",
     "output_type": "stream",
     "text": [
      "b'{\\n  \"origin\": \"121.169.139.158\"\\n}\\n'\n"
     ]
    }
   ],
   "source": [
    "print(r.data)\n"
   ]
  },
  {
   "cell_type": "markdown",
   "metadata": {
    "collapsed": false
   },
   "source": [
    "# US earthquake Data fetch "
   ]
  },
  {
   "cell_type": "code",
   "execution_count": 18,
   "metadata": {
    "collapsed": true
   },
   "outputs": [],
   "source": [
    "url1 = 'http://earthquake.usgs.gov/earthquakes/feed/v1.0/summary/all_week.csv'"
   ]
  },
  {
   "cell_type": "code",
   "execution_count": 19,
   "metadata": {
    "collapsed": true
   },
   "outputs": [],
   "source": [
    "url2 = 'http://earthquake.usgs.gov/earthquakes/feed/v1.0/summary/all_month.csv'"
   ]
  },
  {
   "cell_type": "code",
   "execution_count": 20,
   "metadata": {
    "collapsed": false
   },
   "outputs": [
    {
     "name": "stderr",
     "output_type": "stream",
     "text": [
      "/home/brian/anaconda3/lib/python3.6/site-packages/urllib3/connectionpool.py:730: InsecureRequestWarning: Unverified HTTPS request is being made. Adding certificate verification is strongly advised. See: https://urllib3.readthedocs.org/en/latest/security.html (This warning will only appear once by default.)\n",
      "  InsecureRequestWarning)\n"
     ]
    }
   ],
   "source": [
    "http = urllib3.PoolManager()\n",
    "response = http.request('GET', url1)\n",
    "with open('all_week.csv','wb') as f:\n",
    "    f.write(response.data)"
   ]
  },
  {
   "cell_type": "code",
   "execution_count": 21,
   "metadata": {
    "collapsed": true
   },
   "outputs": [],
   "source": [
    "response.release_conn()"
   ]
  },
  {
   "cell_type": "code",
   "execution_count": 26,
   "metadata": {
    "collapsed": true
   },
   "outputs": [],
   "source": [
    "weeklyEarthquakeData = pd.read_csv('all_week.csv',sep=',')"
   ]
  },
  {
   "cell_type": "code",
   "execution_count": 27,
   "metadata": {
    "collapsed": false,
    "scrolled": false
   },
   "outputs": [
    {
     "data": {
      "text/html": [
       "<div>\n",
       "<table border=\"1\" class=\"dataframe\">\n",
       "  <thead>\n",
       "    <tr style=\"text-align: right;\">\n",
       "      <th></th>\n",
       "      <th>time</th>\n",
       "      <th>latitude</th>\n",
       "      <th>longitude</th>\n",
       "      <th>depth</th>\n",
       "      <th>mag</th>\n",
       "      <th>magType</th>\n",
       "      <th>nst</th>\n",
       "      <th>gap</th>\n",
       "      <th>dmin</th>\n",
       "      <th>rms</th>\n",
       "      <th>...</th>\n",
       "      <th>updated</th>\n",
       "      <th>place</th>\n",
       "      <th>type</th>\n",
       "      <th>horizontalError</th>\n",
       "      <th>depthError</th>\n",
       "      <th>magError</th>\n",
       "      <th>magNst</th>\n",
       "      <th>status</th>\n",
       "      <th>locationSource</th>\n",
       "      <th>magSource</th>\n",
       "    </tr>\n",
       "  </thead>\n",
       "  <tbody>\n",
       "    <tr>\n",
       "      <th>0</th>\n",
       "      <td>2017-03-30T22:55:06.150Z</td>\n",
       "      <td>19.356501</td>\n",
       "      <td>-155.232666</td>\n",
       "      <td>3.15</td>\n",
       "      <td>1.95</td>\n",
       "      <td>md</td>\n",
       "      <td>18.0</td>\n",
       "      <td>102.0</td>\n",
       "      <td>0.01856</td>\n",
       "      <td>0.35</td>\n",
       "      <td>...</td>\n",
       "      <td>2017-03-30T22:58:09.070Z</td>\n",
       "      <td>8km S of Volcano, Hawaii</td>\n",
       "      <td>earthquake</td>\n",
       "      <td>0.45</td>\n",
       "      <td>0.59</td>\n",
       "      <td>0.190</td>\n",
       "      <td>10.0</td>\n",
       "      <td>automatic</td>\n",
       "      <td>hv</td>\n",
       "      <td>hv</td>\n",
       "    </tr>\n",
       "    <tr>\n",
       "      <th>1</th>\n",
       "      <td>2017-03-30T22:54:40.861Z</td>\n",
       "      <td>61.858100</td>\n",
       "      <td>-147.761800</td>\n",
       "      <td>40.20</td>\n",
       "      <td>1.80</td>\n",
       "      <td>ml</td>\n",
       "      <td>NaN</td>\n",
       "      <td>NaN</td>\n",
       "      <td>NaN</td>\n",
       "      <td>0.97</td>\n",
       "      <td>...</td>\n",
       "      <td>2017-03-30T23:00:29.938Z</td>\n",
       "      <td>57km E of Sutton-Alpine, Alaska</td>\n",
       "      <td>earthquake</td>\n",
       "      <td>NaN</td>\n",
       "      <td>0.90</td>\n",
       "      <td>NaN</td>\n",
       "      <td>NaN</td>\n",
       "      <td>automatic</td>\n",
       "      <td>ak</td>\n",
       "      <td>ak</td>\n",
       "    </tr>\n",
       "    <tr>\n",
       "      <th>2</th>\n",
       "      <td>2017-03-30T22:34:58.600Z</td>\n",
       "      <td>19.019300</td>\n",
       "      <td>-65.311800</td>\n",
       "      <td>31.67</td>\n",
       "      <td>4.30</td>\n",
       "      <td>mb</td>\n",
       "      <td>NaN</td>\n",
       "      <td>132.0</td>\n",
       "      <td>0.70800</td>\n",
       "      <td>0.88</td>\n",
       "      <td>...</td>\n",
       "      <td>2017-03-30T22:48:36.040Z</td>\n",
       "      <td>79km N of Culebra, Puerto Rico</td>\n",
       "      <td>earthquake</td>\n",
       "      <td>5.10</td>\n",
       "      <td>6.60</td>\n",
       "      <td>0.095</td>\n",
       "      <td>31.0</td>\n",
       "      <td>reviewed</td>\n",
       "      <td>us</td>\n",
       "      <td>us</td>\n",
       "    </tr>\n",
       "  </tbody>\n",
       "</table>\n",
       "<p>3 rows × 22 columns</p>\n",
       "</div>"
      ],
      "text/plain": [
       "                       time   latitude   longitude  depth   mag magType   nst  \\\n",
       "0  2017-03-30T22:55:06.150Z  19.356501 -155.232666   3.15  1.95      md  18.0   \n",
       "1  2017-03-30T22:54:40.861Z  61.858100 -147.761800  40.20  1.80      ml   NaN   \n",
       "2  2017-03-30T22:34:58.600Z  19.019300  -65.311800  31.67  4.30      mb   NaN   \n",
       "\n",
       "     gap     dmin   rms    ...                      updated  \\\n",
       "0  102.0  0.01856  0.35    ...     2017-03-30T22:58:09.070Z   \n",
       "1    NaN      NaN  0.97    ...     2017-03-30T23:00:29.938Z   \n",
       "2  132.0  0.70800  0.88    ...     2017-03-30T22:48:36.040Z   \n",
       "\n",
       "                             place        type horizontalError depthError  \\\n",
       "0         8km S of Volcano, Hawaii  earthquake            0.45       0.59   \n",
       "1  57km E of Sutton-Alpine, Alaska  earthquake             NaN       0.90   \n",
       "2   79km N of Culebra, Puerto Rico  earthquake            5.10       6.60   \n",
       "\n",
       "   magError  magNst     status  locationSource magSource  \n",
       "0     0.190    10.0  automatic              hv        hv  \n",
       "1       NaN     NaN  automatic              ak        ak  \n",
       "2     0.095    31.0   reviewed              us        us  \n",
       "\n",
       "[3 rows x 22 columns]"
      ]
     },
     "execution_count": 27,
     "metadata": {},
     "output_type": "execute_result"
    }
   ],
   "source": [
    "weeklyEarthquakeData[:3]"
   ]
  },
  {
   "cell_type": "code",
   "execution_count": null,
   "metadata": {
    "collapsed": true
   },
   "outputs": [],
   "source": []
  }
 ],
 "metadata": {
  "kernelspec": {
   "display_name": "Python 3",
   "language": "python",
   "name": "python3"
  },
  "language_info": {
   "codemirror_mode": {
    "name": "ipython",
    "version": 3
   },
   "file_extension": ".py",
   "mimetype": "text/x-python",
   "name": "python",
   "nbconvert_exporter": "python",
   "pygments_lexer": "ipython3",
   "version": "3.6.0"
  }
 },
 "nbformat": 4,
 "nbformat_minor": 2
}
