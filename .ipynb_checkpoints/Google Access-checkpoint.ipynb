{
 "cells": [
  {
   "cell_type": "markdown",
   "metadata": {},
   "source": [
    "<h3> JSON data logging to Google sheet using python  </h3>\n",
    "\n",
    "> This doc pertains to how to log JSON data to google sheet\n",
    "> related google sheet : <font color = \"orange\">\"python-google sheet access\"</font>\n",
    "<br> It is important JSON Parse.  <font color =\"steel-blue\"> data = JSON.parse(e.postData.contents);\" on Code.gs </font>\n",
    "<br> post data format is JSON.  \n",
    "postdata = {\"Timestamp\":\"11-11-15\",\"A\": 11, \"B\": 31}\n",
    "\n",
    "#### table \n",
    "First Header | Second Header\n",
    "------- | -------\n",
    "Content from cell 1 | Content from cell 2\n",
    "Content in the first column | Content in the second column\n",
    "\n",
    "#### task list\n",
    "- [x] @mentions, #refs, [links](), **formatting**, and <del>tags</del> supported\n",
    "- [x] list syntax required (any unordered or ordered list supported)\n",
    "- [x] this is a complete item\n",
    "- [ ] this is an incomplete item\n",
    "\n",
    "#### inline code\n",
    "I think you should use an\n",
    "`<addr>` element here instead.\n",
    "\n",
    "#### block quotes\n",
    "As Kanye West said:\n",
    "\n",
    "> We're living the future so\n",
    "> the present is our past.\n",
    "\n",
    "#### links\n",
    "http://github.com - automatic!\n",
    "[GitHub](http://github.com)\n",
    "\n",
    "#### Emphasis\n",
    "*hello*\n",
    "_hello_\n",
    "_hello is my **first** word_\n",
    "\n",
    "#### text hightlight\n",
    "```diff\n",
    "+ this will be highlighted in green\n",
    "- this will be highlighted in red\n",
    "```\n",
    "\n",
    "<div>\n",
    " <button>test </button>\n",
    "</div>\n",
    "\n",
    "\n",
    "##### created 12.23.2016\n",
    "\n"
   ]
  },
  {
   "cell_type": "code",
   "execution_count": 1,
   "metadata": {
    "collapsed": true
   },
   "outputs": [],
   "source": [
    "import json"
   ]
  },
  {
   "cell_type": "code",
   "execution_count": 2,
   "metadata": {
    "collapsed": true
   },
   "outputs": [],
   "source": [
    "import urllib.request"
   ]
  },
  {
   "cell_type": "code",
   "execution_count": 3,
   "metadata": {
    "collapsed": true
   },
   "outputs": [],
   "source": [
    "url = 'https://script.google.com/macros/s/AKfycbxdc33lfUhtAJaEM5V8RjGC7jNToVewcB0OHGD83TXsEdUrMfAA/exec'\n",
    "\n"
   ]
  },
  {
   "cell_type": "code",
   "execution_count": 4,
   "metadata": {
    "collapsed": true
   },
   "outputs": [],
   "source": [
    "postdata = {\"Timestamp\":\"11-11-15\",\n",
    "            \"A\": 120, \"B\": 320}"
   ]
  },
  {
   "cell_type": "code",
   "execution_count": 5,
   "metadata": {
    "collapsed": true
   },
   "outputs": [],
   "source": [
    "data = json.dumps(postdata,ensure_ascii=False).encode('utf8')"
   ]
  },
  {
   "cell_type": "code",
   "execution_count": 6,
   "metadata": {
    "collapsed": true
   },
   "outputs": [],
   "source": [
    "headers = {'Content-Type':'application/json'}"
   ]
  },
  {
   "cell_type": "code",
   "execution_count": 7,
   "metadata": {
    "collapsed": true
   },
   "outputs": [],
   "source": [
    "req = urllib.request.Request(url,data,headers)"
   ]
  },
  {
   "cell_type": "code",
   "execution_count": 8,
   "metadata": {
    "collapsed": false
   },
   "outputs": [],
   "source": [
    "response = urllib.request.urlopen(req)"
   ]
  },
  {
   "cell_type": "code",
   "execution_count": 9,
   "metadata": {
    "collapsed": false
   },
   "outputs": [
    {
     "name": "stdout",
     "output_type": "stream",
     "text": [
      "{\"result\":\"{\\\"Timestamp\\\": \\\"11-11-15\\\", \\\"A\\\": 120, \\\"B\\\": 320}\",\"row\":17}\n"
     ]
    }
   ],
   "source": [
    "print(response.read().decode('utf8'))"
   ]
  },
  {
   "cell_type": "code",
   "execution_count": null,
   "metadata": {
    "collapsed": true
   },
   "outputs": [],
   "source": []
  }
 ],
 "metadata": {
  "anaconda-cloud": {},
  "kernelspec": {
   "display_name": "Python [conda root]",
   "language": "python",
   "name": "conda-root-py"
  },
  "language_info": {
   "codemirror_mode": {
    "name": "ipython",
    "version": 3
   },
   "file_extension": ".py",
   "mimetype": "text/x-python",
   "name": "python",
   "nbconvert_exporter": "python",
   "pygments_lexer": "ipython3",
   "version": "3.5.2"
  }
 },
 "nbformat": 4,
 "nbformat_minor": 1
}
