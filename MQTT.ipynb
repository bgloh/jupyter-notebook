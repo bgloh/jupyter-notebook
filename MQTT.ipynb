{
 "cells": [
  {
   "cell_type": "markdown",
   "metadata": {},
   "source": [
    "# MQTT"
   ]
  },
  {
   "cell_type": "code",
   "execution_count": 1,
   "metadata": {
    "collapsed": false
   },
   "outputs": [
    {
     "name": "stdout",
     "output_type": "stream",
     "text": [
      "Requirement already satisfied: paho-mqtt in /home/brian/anaconda3/lib/python3.6/site-packages\r\n"
     ]
    }
   ],
   "source": [
    "!pip install paho-mqtt"
   ]
  },
  {
   "cell_type": "code",
   "execution_count": 2,
   "metadata": {
    "collapsed": true
   },
   "outputs": [],
   "source": [
    "import paho.mqtt.client as mqtt\n",
    "import time\n",
    "msg_count = 1\n",
    "oldMessage = []"
   ]
  },
  {
   "cell_type": "markdown",
   "metadata": {},
   "source": [
    "The callback for when the client receives a CONNACK response from the server.\n",
    "Subscribing in on_connect means that if we lose the connection and \n",
    "reconnet then subscription will be renewed."
   ]
  },
  {
   "cell_type": "code",
   "execution_count": 3,
   "metadata": {
    "collapsed": true
   },
   "outputs": [],
   "source": [
    "def on_connect(client, userdata, flags, rc):\n",
    "    print(\"Connected with result code \"+str(rc))\n",
    "    client.subscribe(\"Finn/Jake\",2)"
   ]
  },
  {
   "cell_type": "markdown",
   "metadata": {},
   "source": [
    " The callback for when a PUBISH message is received from the server"
   ]
  },
  {
   "cell_type": "code",
   "execution_count": 4,
   "metadata": {
    "collapsed": false
   },
   "outputs": [],
   "source": [
    "def on_message(client,userdata,msg):\n",
    "   \n",
    "    global msg_count, oldMessage\n",
    "   \n",
    "    if (msg_count == 1):\n",
    "      print(msg_count)\n",
    "      print(msg.topic  + str(msg.payload) +'\\n')\n",
    "    else:\n",
    "        if (msg.payload  != oldMessage):\n",
    "            print(\"new message has arrived\")\n",
    "            msg_count += 1\n",
    "            print('ha ha ha')\n",
    "            print(msg_count)\n",
    "            #print(str(msg.payload) +'\\n')\n",
    "            oldMessage = msg.payload\n",
    "            print(str(oldMessage))\n",
    "            \n",
    "        \n",
    "         \n",
    "    "
   ]
  },
  {
   "cell_type": "code",
   "execution_count": 5,
   "metadata": {
    "collapsed": false
   },
   "outputs": [],
   "source": [
    "def on_subscribe(client,userdata,mid,granted_qos):\n",
    "    print(\"subscribed to the topic and qos :\" + str(granted_qos))"
   ]
  },
  {
   "cell_type": "code",
   "execution_count": 6,
   "metadata": {
    "collapsed": false
   },
   "outputs": [],
   "source": [
    "client = mqtt.Client()"
   ]
  },
  {
   "cell_type": "code",
   "execution_count": 7,
   "metadata": {
    "collapsed": false
   },
   "outputs": [],
   "source": [
    "client.on_connect = on_connect"
   ]
  },
  {
   "cell_type": "code",
   "execution_count": 8,
   "metadata": {
    "collapsed": true
   },
   "outputs": [],
   "source": [
    "client.on_message = on_message"
   ]
  },
  {
   "cell_type": "code",
   "execution_count": 9,
   "metadata": {
    "collapsed": true
   },
   "outputs": [],
   "source": [
    "client.on_subscribe = on_subscribe"
   ]
  },
  {
   "cell_type": "code",
   "execution_count": null,
   "metadata": {
    "collapsed": true
   },
   "outputs": [],
   "source": []
  },
  {
   "cell_type": "code",
   "execution_count": 10,
   "metadata": {
    "collapsed": false
   },
   "outputs": [
    {
     "data": {
      "text/plain": [
       "0"
      ]
     },
     "execution_count": 10,
     "metadata": {},
     "output_type": "execute_result"
    }
   ],
   "source": [
    "client.connect(\"iot.eclipse.org\", 1883,60)"
   ]
  },
  {
   "cell_type": "code",
   "execution_count": 11,
   "metadata": {
    "collapsed": false
   },
   "outputs": [],
   "source": [
    "client.loop_start()"
   ]
  },
  {
   "cell_type": "code",
   "execution_count": null,
   "metadata": {
    "collapsed": false
   },
   "outputs": [],
   "source": []
  },
  {
   "cell_type": "code",
   "execution_count": 12,
   "metadata": {
    "collapsed": false
   },
   "outputs": [],
   "source": [
    "  #client.publish('hansung/rm229',msg.payload)"
   ]
  },
  {
   "cell_type": "code",
   "execution_count": 13,
   "metadata": {
    "collapsed": false
   },
   "outputs": [
    {
     "name": "stdout",
     "output_type": "stream",
     "text": [
      "Connected with result code 0\n",
      "subscribed to the topic and qos :(2,)\n",
      "1\n",
      "Finn/Jakeb'awesome i love mqtt 20'\n",
      "\n",
      "1\n",
      "Finn/Jakeb'1000'\n",
      "\n",
      "1\n",
      "Finn/Jakeb'1001'\n",
      "\n",
      "1\n",
      "Finn/Jakeb'1002'\n",
      "\n",
      "1\n",
      "Finn/Jakeb'1003'\n",
      "\n",
      "1\n",
      "Finn/Jakeb'1004'\n",
      "\n",
      "1\n",
      "Finn/Jakeb'1005'\n",
      "\n"
     ]
    }
   ],
   "source": [
    "#time.sleep(300)\n",
    "#client.disconnect()\n",
    "#client.loop_stop()"
   ]
  },
  {
   "cell_type": "code",
   "execution_count": null,
   "metadata": {
    "collapsed": true
   },
   "outputs": [],
   "source": []
  }
 ],
 "metadata": {
  "kernelspec": {
   "display_name": "Python 3",
   "language": "python",
   "name": "python3"
  },
  "language_info": {
   "codemirror_mode": {
    "name": "ipython",
    "version": 3
   },
   "file_extension": ".py",
   "mimetype": "text/x-python",
   "name": "python",
   "nbconvert_exporter": "python",
   "pygments_lexer": "ipython3",
   "version": "3.6.0"
  }
 },
 "nbformat": 4,
 "nbformat_minor": 2
}
