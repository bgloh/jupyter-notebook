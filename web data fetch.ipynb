{
 "cells": [
  {
   "cell_type": "markdown",
   "metadata": {},
   "source": [
    "# web data fetch using python\n",
    "3.30.2017\n",
    "\n",
    "import urllib3 module from anaconda \n",
    ">pip install -i https://pypi.anaconda.org/pypi/simple urllib3\n",
    "\n",
    "user guid link\n",
    "http://urllib3.readthedocs.io/en/latest/user-guide.html"
   ]
  },
  {
   "cell_type": "code",
   "execution_count": 1,
   "metadata": {
    "collapsed": false
   },
   "outputs": [],
   "source": [
    "import urllib3\n",
    "import pandas as pd"
   ]
  },
  {
   "cell_type": "code",
   "execution_count": 2,
   "metadata": {
    "collapsed": false
   },
   "outputs": [],
   "source": [
    "http = urllib3.PoolManager() # You’ll need a PoolManager instance to make requests. \n"
   ]
  },
  {
   "cell_type": "code",
   "execution_count": 3,
   "metadata": {
    "collapsed": false
   },
   "outputs": [],
   "source": [
    "r = http.request('GET', 'http://httpbin.org/ip')\n"
   ]
  },
  {
   "cell_type": "code",
   "execution_count": 4,
   "metadata": {
    "collapsed": false
   },
   "outputs": [
    {
     "name": "stdout",
     "output_type": "stream",
     "text": [
      "b'{\\n  \"origin\": \"121.169.139.158\"\\n}\\n'\n"
     ]
    }
   ],
   "source": [
    "print(r.data)\n"
   ]
  },
  {
   "cell_type": "markdown",
   "metadata": {
    "collapsed": false
   },
   "source": [
    "# US earthquake Data fetch "
   ]
  },
  {
   "cell_type": "code",
   "execution_count": 5,
   "metadata": {
    "collapsed": true
   },
   "outputs": [],
   "source": [
    "url1 = 'http://earthquake.usgs.gov/earthquakes/feed/v1.0/summary/all_week.csv'"
   ]
  },
  {
   "cell_type": "code",
   "execution_count": 6,
   "metadata": {
    "collapsed": true
   },
   "outputs": [],
   "source": [
    "url2 = 'http://earthquake.usgs.gov/earthquakes/feed/v1.0/summary/all_month.csv'"
   ]
  },
  {
   "cell_type": "code",
   "execution_count": 7,
   "metadata": {
    "collapsed": false
   },
   "outputs": [
    {
     "name": "stderr",
     "output_type": "stream",
     "text": [
      "/home/brian/anaconda3/lib/python3.6/site-packages/urllib3/connectionpool.py:730: InsecureRequestWarning: Unverified HTTPS request is being made. Adding certificate verification is strongly advised. See: https://urllib3.readthedocs.org/en/latest/security.html (This warning will only appear once by default.)\n",
      "  InsecureRequestWarning)\n"
     ]
    }
   ],
   "source": [
    "http = urllib3.PoolManager()\n",
    "response = http.request('GET', url1)\n",
    "with open('all_week.csv','wb') as f:\n",
    "    f.write(response.data)"
   ]
  },
  {
   "cell_type": "code",
   "execution_count": 8,
   "metadata": {
    "collapsed": true
   },
   "outputs": [],
   "source": [
    "response.release_conn()"
   ]
  },
  {
   "cell_type": "code",
   "execution_count": 9,
   "metadata": {
    "collapsed": true
   },
   "outputs": [],
   "source": [
    "weeklyEarthquakeData = pd.read_csv('all_week.csv',sep=',')"
   ]
  },
  {
   "cell_type": "code",
   "execution_count": 10,
   "metadata": {
    "collapsed": false,
    "scrolled": false
   },
   "outputs": [
    {
     "data": {
      "text/html": [
       "<div>\n",
       "<table border=\"1\" class=\"dataframe\">\n",
       "  <thead>\n",
       "    <tr style=\"text-align: right;\">\n",
       "      <th></th>\n",
       "      <th>time</th>\n",
       "      <th>latitude</th>\n",
       "      <th>longitude</th>\n",
       "      <th>depth</th>\n",
       "      <th>mag</th>\n",
       "      <th>magType</th>\n",
       "      <th>nst</th>\n",
       "      <th>gap</th>\n",
       "      <th>dmin</th>\n",
       "      <th>rms</th>\n",
       "      <th>...</th>\n",
       "      <th>updated</th>\n",
       "      <th>place</th>\n",
       "      <th>type</th>\n",
       "      <th>horizontalError</th>\n",
       "      <th>depthError</th>\n",
       "      <th>magError</th>\n",
       "      <th>magNst</th>\n",
       "      <th>status</th>\n",
       "      <th>locationSource</th>\n",
       "      <th>magSource</th>\n",
       "    </tr>\n",
       "  </thead>\n",
       "  <tbody>\n",
       "    <tr>\n",
       "      <th>0</th>\n",
       "      <td>2017-04-04T14:19:29.140Z</td>\n",
       "      <td>38.760166</td>\n",
       "      <td>-122.719666</td>\n",
       "      <td>1.5</td>\n",
       "      <td>1.45</td>\n",
       "      <td>md</td>\n",
       "      <td>9.0</td>\n",
       "      <td>148.0</td>\n",
       "      <td>0.01322</td>\n",
       "      <td>0.05</td>\n",
       "      <td>...</td>\n",
       "      <td>2017-04-04T14:26:02.370Z</td>\n",
       "      <td>3km ESE of The Geysers, California</td>\n",
       "      <td>earthquake</td>\n",
       "      <td>0.36</td>\n",
       "      <td>0.54</td>\n",
       "      <td>0.070</td>\n",
       "      <td>7.0</td>\n",
       "      <td>automatic</td>\n",
       "      <td>nc</td>\n",
       "      <td>nc</td>\n",
       "    </tr>\n",
       "    <tr>\n",
       "      <th>1</th>\n",
       "      <td>2017-04-04T13:53:17.640Z</td>\n",
       "      <td>-55.618000</td>\n",
       "      <td>-30.062300</td>\n",
       "      <td>10.0</td>\n",
       "      <td>5.60</td>\n",
       "      <td>mb</td>\n",
       "      <td>NaN</td>\n",
       "      <td>78.0</td>\n",
       "      <td>3.93800</td>\n",
       "      <td>0.67</td>\n",
       "      <td>...</td>\n",
       "      <td>2017-04-04T14:23:12.840Z</td>\n",
       "      <td>214km WNW of Visokoi Island, South Georgia and...</td>\n",
       "      <td>earthquake</td>\n",
       "      <td>10.80</td>\n",
       "      <td>1.90</td>\n",
       "      <td>0.055</td>\n",
       "      <td>115.0</td>\n",
       "      <td>reviewed</td>\n",
       "      <td>us</td>\n",
       "      <td>us</td>\n",
       "    </tr>\n",
       "    <tr>\n",
       "      <th>2</th>\n",
       "      <td>2017-04-04T13:43:54.020Z</td>\n",
       "      <td>37.975166</td>\n",
       "      <td>-118.723335</td>\n",
       "      <td>2.0</td>\n",
       "      <td>2.68</td>\n",
       "      <td>md</td>\n",
       "      <td>29.0</td>\n",
       "      <td>77.0</td>\n",
       "      <td>0.27630</td>\n",
       "      <td>0.08</td>\n",
       "      <td>...</td>\n",
       "      <td>2017-04-04T14:12:01.356Z</td>\n",
       "      <td>42km NNE of Mammoth Lakes, California</td>\n",
       "      <td>earthquake</td>\n",
       "      <td>0.27</td>\n",
       "      <td>3.81</td>\n",
       "      <td>0.120</td>\n",
       "      <td>27.0</td>\n",
       "      <td>automatic</td>\n",
       "      <td>nc</td>\n",
       "      <td>nc</td>\n",
       "    </tr>\n",
       "  </tbody>\n",
       "</table>\n",
       "<p>3 rows × 22 columns</p>\n",
       "</div>"
      ],
      "text/plain": [
       "                       time   latitude   longitude  depth   mag magType   nst  \\\n",
       "0  2017-04-04T14:19:29.140Z  38.760166 -122.719666    1.5  1.45      md   9.0   \n",
       "1  2017-04-04T13:53:17.640Z -55.618000  -30.062300   10.0  5.60      mb   NaN   \n",
       "2  2017-04-04T13:43:54.020Z  37.975166 -118.723335    2.0  2.68      md  29.0   \n",
       "\n",
       "     gap     dmin   rms    ...                      updated  \\\n",
       "0  148.0  0.01322  0.05    ...     2017-04-04T14:26:02.370Z   \n",
       "1   78.0  3.93800  0.67    ...     2017-04-04T14:23:12.840Z   \n",
       "2   77.0  0.27630  0.08    ...     2017-04-04T14:12:01.356Z   \n",
       "\n",
       "                                               place        type  \\\n",
       "0                 3km ESE of The Geysers, California  earthquake   \n",
       "1  214km WNW of Visokoi Island, South Georgia and...  earthquake   \n",
       "2              42km NNE of Mammoth Lakes, California  earthquake   \n",
       "\n",
       "  horizontalError depthError  magError  magNst     status  locationSource  \\\n",
       "0            0.36       0.54     0.070     7.0  automatic              nc   \n",
       "1           10.80       1.90     0.055   115.0   reviewed              us   \n",
       "2            0.27       3.81     0.120    27.0  automatic              nc   \n",
       "\n",
       "  magSource  \n",
       "0        nc  \n",
       "1        us  \n",
       "2        nc  \n",
       "\n",
       "[3 rows x 22 columns]"
      ]
     },
     "execution_count": 10,
     "metadata": {},
     "output_type": "execute_result"
    }
   ],
   "source": [
    "weeklyEarthquakeData[:3]"
   ]
  },
  {
   "cell_type": "code",
   "execution_count": 16,
   "metadata": {
    "collapsed": false
   },
   "outputs": [
    {
     "data": {
      "text/plain": [
       "Index(['time', 'latitude', 'longitude', 'depth', 'mag', 'magType', 'nst',\n",
       "       'gap', 'dmin', 'rms', 'net', 'id', 'updated', 'place', 'type',\n",
       "       'horizontalError', 'depthError', 'magError', 'magNst', 'status',\n",
       "       'locationSource', 'magSource'],\n",
       "      dtype='object')"
      ]
     },
     "execution_count": 16,
     "metadata": {},
     "output_type": "execute_result"
    }
   ],
   "source": [
    "weeklyEarthquakeData.columns\n"
   ]
  },
  {
   "cell_type": "code",
   "execution_count": null,
   "metadata": {
    "collapsed": true
   },
   "outputs": [],
   "source": []
  }
 ],
 "metadata": {
  "kernelspec": {
   "display_name": "Python 3",
   "language": "python",
   "name": "python3"
  },
  "language_info": {
   "codemirror_mode": {
    "name": "ipython",
    "version": 3
   },
   "file_extension": ".py",
   "mimetype": "text/x-python",
   "name": "python",
   "nbconvert_exporter": "python",
   "pygments_lexer": "ipython3",
   "version": "3.6.0"
  }
 },
 "nbformat": 4,
 "nbformat_minor": 2
}
